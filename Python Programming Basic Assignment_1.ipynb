{
 "cells": [
  {
   "cell_type": "markdown",
   "id": "07511ff0",
   "metadata": {},
   "source": [
    "1. Write a Python program to print &quot;Hello Python&quot;?"
   ]
  },
  {
   "cell_type": "code",
   "execution_count": 5,
   "id": "3c720869",
   "metadata": {},
   "outputs": [
    {
     "name": "stdout",
     "output_type": "stream",
     "text": [
      "HelLo python\n"
     ]
    }
   ],
   "source": [
    "print(\"HelLo python\")"
   ]
  },
  {
   "cell_type": "markdown",
   "id": "1a0159bd",
   "metadata": {},
   "source": [
    "2. Write a Python program to do arithmetical operations addition and division.?"
   ]
  },
  {
   "cell_type": "code",
   "execution_count": 7,
   "id": "972bd55c",
   "metadata": {},
   "outputs": [],
   "source": [
    "a=5\n",
    "b=10"
   ]
  },
  {
   "cell_type": "code",
   "execution_count": 9,
   "id": "52211408",
   "metadata": {},
   "outputs": [
    {
     "name": "stdout",
     "output_type": "stream",
     "text": [
      "15\n",
      "-5\n",
      "50\n",
      "0.5\n",
      "5\n",
      "9765625\n",
      "50.5\n"
     ]
    }
   ],
   "source": [
    "print(a+b)\n",
    "print(a-b)\n",
    "print(a*b)\n",
    "print(a/b)\n",
    "print(a%b)\n",
    "print(a**b)\n",
    "print((a*b)+(a/b)) #bodmas rule"
   ]
  },
  {
   "cell_type": "markdown",
   "id": "d3cae3bb",
   "metadata": {},
   "source": [
    "3. Write a Python program to find the area of a triangle?"
   ]
  },
  {
   "cell_type": "code",
   "execution_count": 4,
   "id": "9b2faf64",
   "metadata": {},
   "outputs": [
    {
     "name": "stdout",
     "output_type": "stream",
     "text": [
      "a=5\n",
      "b=10\n",
      "c=6\n",
      "Area of traingle is: 11.399013115177997\n"
     ]
    }
   ],
   "source": [
    "a=int(input(\"a=\"))\n",
    "b=int(input(\"b=\"))\n",
    "c=int(input(\"c=\"))\n",
    "\n",
    "#calculating the semi parameter....\n",
    "s=(a+b+c)/2\n",
    "\n",
    "#calculating the area of traingle\n",
    "Area=(s*(s-a)*(s-b)*(s-c))**0.5\n",
    "print(\"Area of traingle is:\",Area)"
   ]
  },
  {
   "cell_type": "markdown",
   "id": "878b0a39",
   "metadata": {},
   "source": [
    "4. Write a Python program to swap two variables?"
   ]
  },
  {
   "cell_type": "code",
   "execution_count": 6,
   "id": "ce31e1b8",
   "metadata": {},
   "outputs": [
    {
     "name": "stdout",
     "output_type": "stream",
     "text": [
      "enter the value of x:5\n",
      "enter the value of y:10\n",
      "the value of x after swapping is: 10\n",
      "the value of y after swapping is: 5\n"
     ]
    }
   ],
   "source": [
    "x=int(input(\"enter the value of x:\"))\n",
    "y=int(input(\"enter the value of y:\"))\n",
    "\n",
    "# Swapping of two variables\n",
    "# Using third variable\n",
    "temp=x\n",
    "x=y\n",
    "y=temp\n",
    "print(\"the value of x after swapping is:\",x)\n",
    "print(\"the value of y after swapping is:\",y)"
   ]
  },
  {
   "cell_type": "markdown",
   "id": "f8939b71",
   "metadata": {},
   "source": [
    "5. Write a Python program to generate a random number?"
   ]
  },
  {
   "cell_type": "code",
   "execution_count": 8,
   "id": "e7a3ad5a",
   "metadata": {},
   "outputs": [
    {
     "name": "stdout",
     "output_type": "stream",
     "text": [
      "0.4804519064698002\n"
     ]
    }
   ],
   "source": [
    "import random\n",
    "\n",
    "#The random module provides a random() method which generates a float number between 0 and 1.\n",
    "\n",
    "n=random.random()\n",
    "print(n)\n"
   ]
  },
  {
   "cell_type": "code",
   "execution_count": 9,
   "id": "4f09cb29",
   "metadata": {},
   "outputs": [
    {
     "name": "stdout",
     "output_type": "stream",
     "text": [
      "193\n"
     ]
    }
   ],
   "source": [
    "#Generating a Number within a Given Range\n",
    "\n",
    "#Python random module provides the randint() method that generates an integer number within a specific range.\n",
    "\n",
    "n=random.randint(100,200)\n",
    "print(n)"
   ]
  }
 ],
 "metadata": {
  "kernelspec": {
   "display_name": "Python 3 (ipykernel)",
   "language": "python",
   "name": "python3"
  },
  "language_info": {
   "codemirror_mode": {
    "name": "ipython",
    "version": 3
   },
   "file_extension": ".py",
   "mimetype": "text/x-python",
   "name": "python",
   "nbconvert_exporter": "python",
   "pygments_lexer": "ipython3",
   "version": "3.9.7"
  }
 },
 "nbformat": 4,
 "nbformat_minor": 5
}
